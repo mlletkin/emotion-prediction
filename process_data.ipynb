import pandas as pd
import numpy as np
import matplotlib.pyplot as plt
from sklearn.model_selection import train_test_split
from tensorflow.keras.utils import to_categorical

# load dataset
data = pd.read_csv('/content/drive/MyDrive/fer2013.csv')

# preprocessing data
pixels = data['pixels'].tolist()
faces = np.array([np.fromstring(pixel_sequence, dtype=int, sep=' ') for pixel_sequence in pixels])
faces = faces.reshape((faces.shape[0], 48, 48, 1))

# normalize
faces = faces / 255.0

# processing marks
emotions = pd.get_dummies(data['emotion']).values

# separate train test models
X_train, X_test, y_train, y_test = train_test_split(faces, emotions, test_size=0.2, random_state=42)